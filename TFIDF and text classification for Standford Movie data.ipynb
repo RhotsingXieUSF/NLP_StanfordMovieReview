{
 "cells": [
  {
   "cell_type": "markdown",
   "metadata": {},
   "source": [
    "## TFIDF and text classification for Standford Movie data\n",
    "\n",
    "### Outline\n",
    " - Compute TFIDF score for each reviews\n",
    " \n",
    "     1. Load data\n",
    "     2. Tokenize text\n",
    "     3. Fit to compute TFIDF\n",
    "     \n",
    " \n",
    " - calssify the review(Positive/negative) by TFIDF score\n",
    "     1. logistic regression\n",
    "     2. SVM (slow for large dataset)\n",
    "     3. RandomForest\n",
    "     4. xgboosting\n",
    " \n",
    " About the dataset: positive - grade >= 7.0; negative - grade <= 4.0;"
   ]
  },
  {
   "cell_type": "code",
   "execution_count": 1,
   "metadata": {},
   "outputs": [],
   "source": [
    "from pathlib import Path\n",
    "import re\n",
    "\n",
    "from collections import Counter\n",
    "import numpy as np\n",
    "import pandas as pd\n",
    "\n",
    "import nltk\n",
    "from nltk.stem import WordNetLemmatizer\n",
    "from sklearn.feature_extraction.text import ENGLISH_STOP_WORDS\n",
    "import string\n",
    "from sklearn.feature_extraction.text import TfidfVectorizer"
   ]
  },
  {
   "cell_type": "markdown",
   "metadata": {},
   "source": [
    "### Compute TFIDF"
   ]
  },
  {
   "cell_type": "markdown",
   "metadata": {},
   "source": [
    "#### 1. Load data"
   ]
  },
  {
   "cell_type": "code",
   "execution_count": 2,
   "metadata": {},
   "outputs": [],
   "source": [
    "def  getfilelist(root):\n",
    "    \"\"\"Return a fully-qualified list of filenames under root directory\"\"\"\n",
    "    path = Path(root)\n",
    "    textfiles = path.glob('**/*.txt')\n",
    "    return [str(line) for line in textfiles]"
   ]
  },
  {
   "cell_type": "code",
   "execution_count": 3,
   "metadata": {},
   "outputs": [],
   "source": [
    "def gettext(filename):\n",
    "    \"\"\"Return a string text from given txt file\"\"\"\n",
    "    with open(filename) as f:\n",
    "        text = f.read().replace(\"<br />\", \" \")\n",
    "    return text"
   ]
  },
  {
   "cell_type": "code",
   "execution_count": 4,
   "metadata": {},
   "outputs": [],
   "source": [
    "def gettexttodf(rootpath):\n",
    "    \"\"\"Extract text from all the txt files under given directory\n",
    "       and return a dataframe with string reviews and labels\"\"\"\n",
    "    filename_list = getfilelist(rootpath)\n",
    "    # identify data from positive or negative dataset\n",
    "    if \"neg\" in rootpath:\n",
    "        label = np.zeros(len(filename_list), dtype=int)\n",
    "    else:\n",
    "        label = np.ones(len(filename_list), dtype=int)\n",
    "        \n",
    "    corpus_dict = {'labels':label}\n",
    "    text_list = []\n",
    "    # read text from txt list\n",
    "    for filename in filename_list:\n",
    "        text_list.append(gettext(filename))\n",
    "    corpus_dict['reviews'] = text_list\n",
    "    # convert to dataframe['review', 'labels']    \n",
    "    train_data = pd.DataFrame.from_dict(corpus_dict)\n",
    "    \n",
    "    return train_data"
   ]
  },
  {
   "cell_type": "code",
   "execution_count": 5,
   "metadata": {},
   "outputs": [],
   "source": [
    "neg_path = \"aclImdb/small_data/neg/\"\n",
    "pos_path = \"aclImdb/small_data/pos/\"\n",
    "# create dataframe from labeled txt\n",
    "neg = gettexttodf(neg_path)\n",
    "pos = gettexttodf(pos_path)"
   ]
  },
  {
   "cell_type": "code",
   "execution_count": 6,
   "metadata": {},
   "outputs": [],
   "source": [
    "data = pd.concat([neg, pos],ignore_index=True)"
   ]
  },
  {
   "cell_type": "code",
   "execution_count": 7,
   "metadata": {},
   "outputs": [
    {
     "data": {
      "text/plain": [
       "1    400\n",
       "0    400\n",
       "Name: labels, dtype: int64"
      ]
     },
     "execution_count": 7,
     "metadata": {},
     "output_type": "execute_result"
    }
   ],
   "source": [
    "data.labels.value_counts()"
   ]
  },
  {
   "cell_type": "markdown",
   "metadata": {},
   "source": [
    "#### 2. Tokenize text"
   ]
  },
  {
   "cell_type": "code",
   "execution_count": 8,
   "metadata": {},
   "outputs": [],
   "source": [
    "def tokenize(text):\n",
    "    \"\"\"\n",
    "    Tokenize text and return a non-unique list of tokenized words\n",
    "    found in the text. Normalize to lowercase, strip punctuation,\n",
    "    remove stop words, drop words of length < 3, strip digits.\n",
    "    \"\"\"\n",
    "    text = text.lower()\n",
    "    text = re.sub('[' + string.punctuation + '0-9\\\\r\\\\t\\\\n]', ' ', text)\n",
    "    tokens = nltk.word_tokenize(text)\n",
    "    tokens = [w for w in tokens if (len(w) > 2) and (w not in ENGLISH_STOP_WORDS)]  # ignore a, an, to, at, be, ...\n",
    "    return tokens"
   ]
  },
  {
   "cell_type": "code",
   "execution_count": 9,
   "metadata": {},
   "outputs": [],
   "source": [
    "def normalizewords(words):\n",
    "    \"\"\"\n",
    "    Given a list of tokens/words, return a new list of normalize words\n",
    "    \"\"\"\n",
    "    lemmatizer = nltk.stem.WordNetLemmatizer()\n",
    "    normal = []\n",
    "    for word, tag in nltk.pos_tag(words):\n",
    "        wtag = tag[0].lower()\n",
    "        wtag = wtag if wtag in ['a', 'r', 'n', 'v'] else None\n",
    "        lemma = lemmatizer.lemmatize(word, wtag) if wtag else word\n",
    "        normal.append(lemma)\n",
    "    return ' '.join(normal)"
   ]
  },
  {
   "cell_type": "code",
   "execution_count": 10,
   "metadata": {},
   "outputs": [],
   "source": [
    "# update df wtth normalized and tokenized words string\n",
    "for i in range(len(data)):\n",
    "    data.loc[i,'reviews'] = normalizewords(tokenize(data.loc[i,'reviews']))"
   ]
  },
  {
   "cell_type": "markdown",
   "metadata": {},
   "source": [
    "#### 3. TFIDF-vectorize"
   ]
  },
  {
   "cell_type": "code",
   "execution_count": 11,
   "metadata": {},
   "outputs": [],
   "source": [
    "tfidf = TfidfVectorizer(analyzer = \"word\", max_features=20000)\n",
    "tfidf.fit(data[\"reviews\"])\n",
    "\n",
    "def transform_data(tfidf, dataset):\n",
    "    features = tfidf.transform(dataset[\"reviews\"])\n",
    "    return pd.DataFrame(features.todense(), columns = tfidf.get_feature_names())"
   ]
  },
  {
   "cell_type": "code",
   "execution_count": 12,
   "metadata": {},
   "outputs": [],
   "source": [
    "from sklearn.model_selection import train_test_split\n",
    "\n",
    "train, test = train_test_split(data, test_size=0.3)"
   ]
  },
  {
   "cell_type": "code",
   "execution_count": 13,
   "metadata": {},
   "outputs": [],
   "source": [
    "X_tfidf_train = transform_data(tfidf, train)\n",
    "X_tfidf_test = transform_data(tfidf, test)"
   ]
  },
  {
   "cell_type": "code",
   "execution_count": 14,
   "metadata": {},
   "outputs": [],
   "source": [
    "y_train = train['labels']\n",
    "y_test = test['labels']"
   ]
  },
  {
   "cell_type": "code",
   "execution_count": 15,
   "metadata": {},
   "outputs": [
    {
     "data": {
      "text/plain": [
       "0    121\n",
       "1    119\n",
       "Name: labels, dtype: int64"
      ]
     },
     "execution_count": 15,
     "metadata": {},
     "output_type": "execute_result"
    }
   ],
   "source": [
    "y_test.value_counts()"
   ]
  },
  {
   "cell_type": "code",
   "execution_count": null,
   "metadata": {},
   "outputs": [],
   "source": []
  },
  {
   "cell_type": "markdown",
   "metadata": {},
   "source": [
    "### Model trainning"
   ]
  },
  {
   "cell_type": "markdown",
   "metadata": {},
   "source": [
    "#### 1. model fitting - logistic regression"
   ]
  },
  {
   "cell_type": "code",
   "execution_count": 16,
   "metadata": {},
   "outputs": [],
   "source": [
    "from sklearn.model_selection import cross_val_score\n",
    "from sklearn.metrics import classification_report"
   ]
  },
  {
   "cell_type": "code",
   "execution_count": 17,
   "metadata": {},
   "outputs": [],
   "source": [
    "from sklearn.linear_model import LogisticRegression"
   ]
  },
  {
   "cell_type": "code",
   "execution_count": 18,
   "metadata": {},
   "outputs": [
    {
     "data": {
      "text/plain": [
       "LogisticRegression(C=10000, multi_class='ovr')"
      ]
     },
     "execution_count": 18,
     "metadata": {},
     "output_type": "execute_result"
    }
   ],
   "source": [
    "lr = LogisticRegression(C=10000, penalty='l2', multi_class='ovr')\n",
    "lr.fit(X_tfidf_train, y_train)"
   ]
  },
  {
   "cell_type": "code",
   "execution_count": 19,
   "metadata": {},
   "outputs": [
    {
     "name": "stdout",
     "output_type": "stream",
     "text": [
      "              precision    recall  f1-score   support\n",
      "\n",
      "           0       0.95      0.86      0.90       121\n",
      "           1       0.87      0.96      0.91       119\n",
      "\n",
      "    accuracy                           0.91       240\n",
      "   macro avg       0.91      0.91      0.91       240\n",
      "weighted avg       0.91      0.91      0.91       240\n",
      "\n"
     ]
    }
   ],
   "source": [
    "print(classification_report(y_test, lr.predict(X_tfidf_test)))"
   ]
  },
  {
   "cell_type": "code",
   "execution_count": 20,
   "metadata": {},
   "outputs": [
    {
     "name": "stdout",
     "output_type": "stream",
     "text": [
      "train: 1.0 test: 0.908\n"
     ]
    }
   ],
   "source": [
    "print('train:',lr.score(X_tfidf_train,y_train), 'test:', round(lr.score(X_tfidf_test, y_test),3))"
   ]
  },
  {
   "cell_type": "markdown",
   "metadata": {},
   "source": [
    "#### 2. model fitting - SVM"
   ]
  },
  {
   "cell_type": "code",
   "execution_count": 21,
   "metadata": {},
   "outputs": [],
   "source": [
    "from sklearn import svm"
   ]
  },
  {
   "cell_type": "code",
   "execution_count": 22,
   "metadata": {},
   "outputs": [
    {
     "data": {
      "text/plain": [
       "SVC()"
      ]
     },
     "execution_count": 22,
     "metadata": {},
     "output_type": "execute_result"
    }
   ],
   "source": [
    "svm_model = svm.SVC(kernel = 'rbf')\n",
    "svm_model.fit(X_tfidf_train, y_train)"
   ]
  },
  {
   "cell_type": "code",
   "execution_count": 23,
   "metadata": {},
   "outputs": [
    {
     "name": "stdout",
     "output_type": "stream",
     "text": [
      "              precision    recall  f1-score   support\n",
      "\n",
      "           0       0.91      0.79      0.85       121\n",
      "           1       0.81      0.92      0.87       119\n",
      "\n",
      "    accuracy                           0.86       240\n",
      "   macro avg       0.86      0.86      0.86       240\n",
      "weighted avg       0.86      0.86      0.86       240\n",
      "\n"
     ]
    }
   ],
   "source": [
    "print(classification_report(y_test, svm_model.predict(X_tfidf_test)))"
   ]
  },
  {
   "cell_type": "code",
   "execution_count": 24,
   "metadata": {},
   "outputs": [
    {
     "name": "stdout",
     "output_type": "stream",
     "text": [
      "train: 1.0 test: 0.858\n"
     ]
    }
   ],
   "source": [
    "print('train:',svm_model.score(X_tfidf_train,y_train), 'test:', round(svm_model.score(X_tfidf_test, y_test),3))"
   ]
  },
  {
   "cell_type": "markdown",
   "metadata": {},
   "source": [
    "#### 3. model fitting -  Randomforest"
   ]
  },
  {
   "cell_type": "code",
   "execution_count": 25,
   "metadata": {},
   "outputs": [],
   "source": [
    "from sklearn.ensemble import RandomForestClassifier\n",
    "from sklearn.model_selection import GridSearchCV"
   ]
  },
  {
   "cell_type": "code",
   "execution_count": 26,
   "metadata": {},
   "outputs": [],
   "source": [
    "params_to_test = {\n",
    "    'n_estimators':[100,150,200,250],\n",
    "    'max_depth':[5,6,7,9]\n",
    "}"
   ]
  },
  {
   "cell_type": "code",
   "execution_count": 27,
   "metadata": {},
   "outputs": [],
   "source": [
    "rf=RandomForestClassifier(random_state=1)"
   ]
  },
  {
   "cell_type": "code",
   "execution_count": 28,
   "metadata": {},
   "outputs": [],
   "source": [
    "# cv forto get the best paramters\n",
    "grid_search = GridSearchCV(rf, param_grid=params_to_test, cv=10, scoring='accuracy', n_jobs=4)\n",
    "\n",
    "grid_search.fit(X_tfidf_train, y_train)\n",
    "\n",
    "best_params = grid_search.best_params_"
   ]
  },
  {
   "cell_type": "code",
   "execution_count": 29,
   "metadata": {},
   "outputs": [
    {
     "data": {
      "text/plain": [
       "{'max_depth': 7, 'n_estimators': 100}"
      ]
     },
     "execution_count": 29,
     "metadata": {},
     "output_type": "execute_result"
    }
   ],
   "source": [
    "best_params"
   ]
  },
  {
   "cell_type": "code",
   "execution_count": 37,
   "metadata": {},
   "outputs": [
    {
     "data": {
      "text/plain": [
       "RandomForestClassifier(max_depth=7)"
      ]
     },
     "execution_count": 37,
     "metadata": {},
     "output_type": "execute_result"
    }
   ],
   "source": [
    "rf=RandomForestClassifier(**best_params)\n",
    "rf.fit(X_tfidf_train, y_train)"
   ]
  },
  {
   "cell_type": "code",
   "execution_count": 38,
   "metadata": {},
   "outputs": [
    {
     "name": "stdout",
     "output_type": "stream",
     "text": [
      "              precision    recall  f1-score   support\n",
      "\n",
      "           0       0.85      0.76      0.80       121\n",
      "           1       0.78      0.87      0.82       119\n",
      "\n",
      "    accuracy                           0.81       240\n",
      "   macro avg       0.82      0.81      0.81       240\n",
      "weighted avg       0.82      0.81      0.81       240\n",
      "\n"
     ]
    }
   ],
   "source": [
    "print(classification_report(y_test, rf.predict(X_tfidf_test)))"
   ]
  },
  {
   "cell_type": "code",
   "execution_count": 39,
   "metadata": {},
   "outputs": [
    {
     "name": "stdout",
     "output_type": "stream",
     "text": [
      "train: 0.964 test: 0.812\n"
     ]
    }
   ],
   "source": [
    "print('train:',round(rf.score(X_tfidf_train,y_train),3), 'test:', round(rf.score(X_tfidf_test, y_test),3))"
   ]
  },
  {
   "cell_type": "markdown",
   "metadata": {},
   "source": [
    "#### 4. model fitting - Naive Bayes"
   ]
  },
  {
   "cell_type": "code",
   "execution_count": 33,
   "metadata": {},
   "outputs": [],
   "source": [
    "from sklearn.naive_bayes import MultinomialNB"
   ]
  },
  {
   "cell_type": "code",
   "execution_count": 34,
   "metadata": {},
   "outputs": [
    {
     "data": {
      "text/plain": [
       "MultinomialNB()"
      ]
     },
     "execution_count": 34,
     "metadata": {},
     "output_type": "execute_result"
    }
   ],
   "source": [
    "nb = MultinomialNB()\n",
    "nb.fit(X_tfidf_train, y_train)"
   ]
  },
  {
   "cell_type": "code",
   "execution_count": 35,
   "metadata": {},
   "outputs": [
    {
     "name": "stdout",
     "output_type": "stream",
     "text": [
      "              precision    recall  f1-score   support\n",
      "\n",
      "           0       0.90      0.94      0.92       121\n",
      "           1       0.94      0.90      0.92       119\n",
      "\n",
      "    accuracy                           0.92       240\n",
      "   macro avg       0.92      0.92      0.92       240\n",
      "weighted avg       0.92      0.92      0.92       240\n",
      "\n"
     ]
    }
   ],
   "source": [
    "print(classification_report(y_test, nb.predict(X_tfidf_test)))"
   ]
  },
  {
   "cell_type": "code",
   "execution_count": 36,
   "metadata": {},
   "outputs": [
    {
     "name": "stdout",
     "output_type": "stream",
     "text": [
      "train: 0.989 test: 0.921\n"
     ]
    }
   ],
   "source": [
    "print('train:',round(nb.score(X_tfidf_train,y_train),3), 'test:', round(nb.score(X_tfidf_test, y_test),3))"
   ]
  }
 ],
 "metadata": {
  "kernelspec": {
   "display_name": "Python 3",
   "language": "python",
   "name": "python3"
  },
  "language_info": {
   "codemirror_mode": {
    "name": "ipython",
    "version": 3
   },
   "file_extension": ".py",
   "mimetype": "text/x-python",
   "name": "python",
   "nbconvert_exporter": "python",
   "pygments_lexer": "ipython3",
   "version": "3.8.3"
  }
 },
 "nbformat": 4,
 "nbformat_minor": 4
}
